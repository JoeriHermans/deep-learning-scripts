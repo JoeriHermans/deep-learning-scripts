{
 "cells": [
  {
   "cell_type": "markdown",
   "metadata": {},
   "source": [
    "# Adverserial Variational Optimization\n",
    "\n",
    "*Gilles Louppe & Kayle Cranmer*\n",
    "\n",
    "Notebook by Joeri Hermans"
   ]
  },
  {
   "cell_type": "code",
   "execution_count": 1,
   "metadata": {},
   "outputs": [
    {
     "name": "stdout",
     "output_type": "stream",
     "text": [
      "Thu Oct 12 22:43:03 CEST 2017\r\n"
     ]
    }
   ],
   "source": [
    "!date"
   ]
  },
  {
   "cell_type": "markdown",
   "metadata": {},
   "source": [
    "Complex computer simulators are increasingly used across fields of science as generative models tying parameters of an underlying theory to experimental observations. Inference in this setup is often difficult, as simulators rarely admit a tractable density or likelihood function. We introduce Adversarial Variational Optimization (AVO), a likelihood-free inference algorithm for fitting a non-differentiable generative model incorporating ideas from empirical Bayes and variational inference. We adapt the training procedure of generative adversarial networks by replacing the differentiable generative network with a domain-specific simulator. We solve the resulting non-differentiable minimax problem by minimizing variational upper bounds of the two adversarial objectives. Effectively, the procedure results in learning a proposal distribution over simulator parameters, such that the corresponding marginal distribution of the generated data matches the observations. We present results of the method with simulators producing both discrete and continuous data.\n",
    "\n",
    "**Manuscript**: [https://arxiv.org/abs/1707.07113](https://arxiv.org/abs/1707.07113)"
   ]
  },
  {
   "cell_type": "markdown",
   "metadata": {},
   "source": [
    "## Configuration\n",
    "\n",
    "### Imports"
   ]
  },
  {
   "cell_type": "code",
   "execution_count": 2,
   "metadata": {
    "collapsed": true
   },
   "outputs": [],
   "source": [
    "import numpy as np\n",
    "import torch\n",
    "import math\n",
    "import matplotlib.mlab as mlab\n",
    "import torch.nn.functional as F\n",
    "import matplotlib.pyplot as plt\n",
    "import scipy.stats as stats\n",
    "from scipy.stats import norm as sp_norm\n",
    "\n",
    "from sklearn.utils import check_random_state"
   ]
  },
  {
   "cell_type": "markdown",
   "metadata": {},
   "source": [
    "### Globals"
   ]
  },
  {
   "cell_type": "code",
   "execution_count": 3,
   "metadata": {
    "collapsed": true
   },
   "outputs": [],
   "source": [
    "seed = 1337\n",
    "random_number_generator = check_random_state(seed)\n",
    "\n",
    "batch_size = 64\n",
    "num_epochs = 300\n",
    "\n",
    "beam_energy = 45.0 # In GeV\n",
    "fermi_constant = 0.9\n",
    "\n",
    "theta_true = np.array([beam_energy, fermi_constant])"
   ]
  },
  {
   "cell_type": "markdown",
   "metadata": {},
   "source": [
    "### Utility Methods"
   ]
  },
  {
   "cell_type": "code",
   "execution_count": 4,
   "metadata": {
    "collapsed": true
   },
   "outputs": [],
   "source": [
    "def plot_observations(X_observed, theta_optimal):\n",
    "    plt.grid(True)\n",
    "    plt.hist(X_observed, histtype=\"bar\", range=(-1, 1), bins=100)\n",
    "    plt.xlim([-1, 1])\n",
    "    plt.ylim([0, 3000])\n",
    "    plt.title(r\"Distribution of $\\cos(A)$ in $e^-e^+ \\rightarrow \\mu^-\\mu^+$ events.\" + \"\\n\"\n",
    "              r\"$E_{beam}}$ = \" + str(theta_optimal[0]) + \"GeV   -   \" + r\"$G_f$ = \" + str(theta_optimal[1]))\n",
    "    plt.xlabel(r\"$\\cos(A)$\")\n",
    "    plt.ylabel(\"Events\")\n",
    "    plt.show()\n",
    "    \n",
    "def random_gaussian(mu=[-1, 1], sigma=5.0):\n",
    "    return {'mu': np.random.uniform(mu[0], mu[1]),\n",
    "            'sigma': np.random.uniform(0.0, sigma)}"
   ]
  },
  {
   "cell_type": "markdown",
   "metadata": {},
   "source": [
    "## Introduction\n",
    "\n",
    "TODO Explain goals."
   ]
  },
  {
   "cell_type": "markdown",
   "metadata": {},
   "source": [
    "## Problem Statement\n",
    "\n",
    "TODO"
   ]
  },
  {
   "cell_type": "markdown",
   "metadata": {},
   "source": [
    "## Simulator\n",
    "\n",
    "This notebook will only consider a simplified simulator from particle physics for electron-positron ($e^-e^+$) collisions resulting in muon-antipuon pairs ($\\mu^-\\mu^+$), i.e., $e^-e^+ \\rightarrow \\mu^-\\mu^+$. The simulator approximates the distribution of observed measurements $\\mathbf{x} = \\cos(A) \\in [-1, 1]$, where $A$ is the polar angle of the center of mass momenta of the outgoing muon with respect to the originally incoming electron. When we neglect the measurement uncertainty induced fromt he particle detectors, this random variable is approximately distributed as:\n",
    "\n",
    "**Additional information**: [Positron - Electron Annihilation into Muon - Anti-muon](http://geant4.cern.ch/G4UsersDocuments/UsersGuides/PhysicsReferenceManual/html/node44.html)"
   ]
  },
  {
   "cell_type": "code",
   "execution_count": 5,
   "metadata": {
    "collapsed": true
   },
   "outputs": [],
   "source": [
    "def simulator(theta, n_samples, random_state=None):\n",
    "    rng = check_random_state(random_state)\n",
    "    samples = rej_sample_costheta(n_samples, theta, rng)\n",
    "\n",
    "    return samples.reshape(-1, 1)\n",
    "\n",
    "def rej_sample_costheta(n_samples, theta, rng):\n",
    "    #sqrtshalf = theta[0] * (50 - 40) + 40\n",
    "    #gf = theta[1] * (1.5 - 0.5) + 0.5\n",
    "    sqrtshalf = theta[0]\n",
    "    gf = theta[1]\n",
    "    \n",
    "    ntrials = 0\n",
    "    samples = []\n",
    "    x = np.linspace(-1, 1, num=1000)\n",
    "    maxval = np.max(diffxsec(x, sqrtshalf, gf))\n",
    "\n",
    "    while len(samples) < n_samples:\n",
    "        ntrials = ntrials + 1\n",
    "        xprop = rng.uniform(-1, 1)\n",
    "        ycut = rng.rand()\n",
    "        yprop = diffxsec(xprop, sqrtshalf, gf) / maxval\n",
    "        if (yprop / maxval) < ycut:\n",
    "            continue\n",
    "        samples.append(xprop)\n",
    "\n",
    "    return np.array(samples)\n",
    "\n",
    "def diffxsec(costheta, sqrtshalf, gf):\n",
    "    norm = 2. * (1. + 1. / 3.)\n",
    "    return ((1 + costheta ** 2) + a_fb(sqrtshalf, gf) * costheta) / norm\n",
    "\n",
    "def a_fb(sqrtshalf, gf):\n",
    "    mz = 90\n",
    "    gf_nom = 0.9\n",
    "    sqrts = sqrtshalf * 2.\n",
    "    a_fb_en = np.tanh((sqrts - mz) / mz * 10)\n",
    "    a_fb_gf = gf / gf_nom\n",
    "\n",
    "    return 2 * a_fb_en * a_fb_gf"
   ]
  },
  {
   "cell_type": "code",
   "execution_count": 6,
   "metadata": {},
   "outputs": [
    {
     "data": {
      "image/png": "[encoded data removed]",
      "text/plain": [
       "<matplotlib.figure.Figure at 0x7f539432ba90>"
      ]
     },
     "metadata": {},
     "output_type": "display_data"
    },
    {
     "data": {
      "image/png": "[encoded data removed]",
      "text/plain": [
       "<matplotlib.figure.Figure at 0x7f53e4f22550>"
      ]
     },
     "metadata": {},
     "output_type": "display_data"
    },
    {
     "data": {
      "image/png": "[encoded data removed]",
      "text/plain": [
       "<matplotlib.figure.Figure at 0x7f5393e6af98>"
      ]
     },
     "metadata": {},
     "output_type": "display_data"
    }
   ],
   "source": [
    "# Show the different distributions of cos(A) for different beam energies.\n",
    "for energy in range(40, 51, 5):\n",
    "    theta = np.array([energy, fermi_constant])\n",
    "    X_observed = simulator(theta, 100000, random_state=random_number_generator)\n",
    "    plot_observations(X_observed, theta)"
   ]
  },
  {
   "cell_type": "markdown",
   "metadata": {},
   "source": [
    "## Model\n",
    "\n",
    "In this section we describe the adverserial model we'll be training to fit the adverserial objective."
   ]
  },
  {
   "cell_type": "code",
   "execution_count": 7,
   "metadata": {
    "collapsed": true
   },
   "outputs": [],
   "source": [
    "class Critic(torch.nn.Module):\n",
    "    \n",
    "    def __init__(self, num_features, num_hidden):\n",
    "        super(Critic, self).__init__()\n",
    "        self.fc_1 = t.nn.Linear(num_features, num_hidden)\n",
    "        self.fc_2 = t.nn.Linear(num_hidden, 1)\n",
    "        \n",
    "    def forward(self, x):\n",
    "        x = F.relu(self.fc_1(x))\n",
    "        x = self.fc_2(x)\n",
    "        \n",
    "        return x"
   ]
  },
  {
   "cell_type": "code",
   "execution_count": 8,
   "metadata": {
    "collapsed": true
   },
   "outputs": [],
   "source": [
    "def make_gaussian_proposal(n_parameters, mu=0.0, log_sigma=0.0):\n",
    "    return {\"mu\":  mu * np.ones(n_parameters),\n",
    "            \"log_sigma\": log_sigma * np.ones(n_parameters)}\n",
    "\n",
    "\n",
    "def gaussian_draw(params, n_samples, random_state=None):\n",
    "    n_parameters = len(params[\"mu\"])\n",
    "    mu = params[\"mu\"]\n",
    "    sigma = np.exp(params[\"log_sigma\"])\n",
    "\n",
    "    thetas = np.zeros((n_samples, n_parameters))\n",
    "\n",
    "    for i in range(n_parameters):\n",
    "        thetas[:, i] = sp_norm.rvs(size=n_samples,\n",
    "                                   loc=mu[i],\n",
    "                                   scale=sigma[i],\n",
    "                                   random_state=random_state)\n",
    "\n",
    "    return thetas"
   ]
  },
  {
   "cell_type": "code",
   "execution_count": 9,
   "metadata": {},
   "outputs": [],
   "source": [
    "X_observed = simulator(theta_true, 100000, random_state=random_number_generator)\n",
    "num_features = X_observed.shape[1]\n",
    "num_parameters = len(theta_true)\n",
    "m = 64\n",
    "\n",
    "params = make_gaussian_proposal(num_parameters, mu=0.5, log_sigma=np.log(0.1))\n",
    "thetas = gaussian_draw(params, m // 2, random_state=random_number_generator)\n",
    "\n",
    "y_critic = np.zeros(m)\n",
    "y_critic[batch_size // 2:] = 1.0\n",
    "_X_gen = np.zeros((batch_size // 2, num_features))\n",
    "\n",
    "for j, theta in enumerate(thetas):\n",
    "    _X_gen[j, :] = simulator(theta, 1, random_state=random_number_generator).ravel()\n",
    "\n",
    "indices = random_number_generator.permutation(len(X_observed))\n",
    "_X_obs = X_observed[indices[:batch_size // 2]]\n",
    "X = np.vstack([_X_gen, _X_obs])"
   ]
  },
  {
   "cell_type": "markdown",
   "metadata": {},
   "source": [
    "### Experimental Data\n",
    "\n",
    "Before any inference can be done on our parameters of interest, i.e., the beam energy, $E_{beam}$, and Fermi's constant, $G_f$."
   ]
  },
  {
   "cell_type": "markdown",
   "metadata": {},
   "source": [
    "### Prior Initialization"
   ]
  },
  {
   "cell_type": "code",
   "execution_count": 42,
   "metadata": {},
   "outputs": [],
   "source": [
    "# Initialize prior of p(theta | phi).\n",
    "p_theta_phi = {'mu': [], 'sigma': []}\n",
    "\n",
    "# Sample a random Gaussian for the beam energy.\n",
    "g = random_gaussian(mu=[30, 60], sigma=1.0)\n",
    "p_theta_phi['mu'].append(g['mu'])\n",
    "p_theta_phi['sigma'].append(g['sigma'])\n",
    "\n",
    "# Sample a random Gaussian for Fermi's paradox.\n",
    "g = random_gaussian(mu=[0, 2], sigma=1.0)\n",
    "p_theta_phi['mu'].append(g['mu'])\n",
    "p_theta_phi['sigma'].append(g['sigma'])"
   ]
  },
  {
   "cell_type": "code",
   "execution_count": 43,
   "metadata": {},
   "outputs": [
    {
     "data": {
      "image/png": "[encoded data removed]",
      "text/plain": [
       "<matplotlib.figure.Figure at 0x7f5391508a58>"
      ]
     },
     "metadata": {},
     "output_type": "display_data"
    }
   ],
   "source": [
    "# Obtain the parameterization of the beam energy prior.\n",
    "prior_beam_energy_mu = p_theta_phi['mu'][0]\n",
    "prior_beam_energy_sigma = p_theta_phi['sigma'][0]\n",
    "prior_beam_energy_variance = prior_beam_energy_sigma ** 2\n",
    "\n",
    "# Draw the prior over the beam enery.\n",
    "x = np.linspace(30, 60, 1000)\n",
    "plt.plot(x, mlab.normpdf(x, prior_beam_energy_mu, prior_beam_energy_sigma))\n",
    "plt.xlim([30, 60])\n",
    "plt.ylim([0, 2])\n",
    "plt.xlabel(\"GeV\")\n",
    "plt.grid(True)\n",
    "plt.title(r\"Prior $p(E_{beam}|\\Psi)$\")\n",
    "plt.show()"
   ]
  },
  {
   "cell_type": "code",
   "execution_count": 44,
   "metadata": {},
   "outputs": [
    {
     "data": {
      "image/png": "[encoded data removed]",
      "text/plain": [
       "<matplotlib.figure.Figure at 0x7f5391508358>"
      ]
     },
     "metadata": {},
     "output_type": "display_data"
    }
   ],
   "source": [
    "# Obtain the parameterization of Fermi's constant prior.\n",
    "prior_gf_mu = p_theta_phi['mu'][1]\n",
    "prior_gf_sigma = p_theta_phi['sigma'][1]\n",
    "prior_gf_variance = prior_gf_sigma ** 2\n",
    "\n",
    "# Draw the prior over the beam enery.\n",
    "x = np.linspace(-2, 3, 1000)\n",
    "plt.plot(x, mlab.normpdf(x, prior_gf_mu, prior_gf_sigma))\n",
    "plt.xlim([-2, 3])\n",
    "plt.ylim([0, 2])\n",
    "plt.grid(True)\n",
    "plt.title(r\"Prior $p(G_f|\\Psi)$\")\n",
    "plt.show()"
   ]
  },
  {
   "cell_type": "markdown",
   "metadata": {},
   "source": [
    "## Conclusion"
   ]
  },
  {
   "cell_type": "code",
   "execution_count": null,
   "metadata": {
    "collapsed": true
   },
   "outputs": [],
   "source": []
  }
 ],
 "metadata": {
  "kernelspec": {
   "display_name": "Python 3",
   "language": "python",
   "name": "python3"
  },
  "language_info": {
   "codemirror_mode": {
    "name": "ipython",
    "version": 3
   },
   "file_extension": ".py",
   "mimetype": "text/x-python",
   "name": "python",
   "nbconvert_exporter": "python",
   "pygments_lexer": "ipython3",
   "version": "3.6.1"
  }
 },
 "nbformat": 4,
 "nbformat_minor": 2
}
