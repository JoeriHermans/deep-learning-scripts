{
 "cells": [
  {
   "cell_type": "markdown",
   "metadata": {},
   "source": [
    "# Adverserial Variational Optimization\n",
    "\n",
    "*Gilles Louppe & Kayle Cranmer*\n",
    "\n",
    "Notebook by Joeri Hermans"
   ]
  },
  {
   "cell_type": "code",
   "execution_count": 1,
   "metadata": {},
   "outputs": [
    {
     "name": "stdout",
     "output_type": "stream",
     "text": [
      "Thu Oct 19 15:42:28 CEST 2017\r\n"
     ]
    }
   ],
   "source": [
    "!date"
   ]
  },
  {
   "cell_type": "markdown",
   "metadata": {},
   "source": [
    "Complex computer simulators are increasingly used across fields of science as generative models tying parameters of an underlying theory to experimental observations. Inference in this setup is often difficult, as simulators rarely admit a tractable density or likelihood function. We introduce Adversarial Variational Optimization (AVO), a likelihood-free inference algorithm for fitting a non-differentiable generative model incorporating ideas from empirical Bayes and variational inference. We adapt the training procedure of generative adversarial networks by replacing the differentiable generative network with a domain-specific simulator. We solve the resulting non-differentiable minimax problem by minimizing variational upper bounds of the two adversarial objectives. Effectively, the procedure results in learning a proposal distribution over simulator parameters, such that the corresponding marginal distribution of the generated data matches the observations. We present results of the method with simulators producing both discrete and continuous data.\n",
    "\n",
    "**Manuscript**: [https://arxiv.org/abs/1707.07113](https://arxiv.org/abs/1707.07113)"
   ]
  },
  {
   "cell_type": "markdown",
   "metadata": {},
   "source": [
    "## Configuration\n",
    "\n",
    "### Imports"
   ]
  },
  {
   "cell_type": "code",
   "execution_count": 2,
   "metadata": {
    "collapsed": true
   },
   "outputs": [],
   "source": [
    "import numpy as np\n",
    "import torch\n",
    "import math\n",
    "import matplotlib.mlab as mlab\n",
    "import torch.nn.functional as F\n",
    "import matplotlib.pyplot as plt\n",
    "from torch.autograd import Variable\n",
    "import scipy.stats as stats\n",
    "import scipy\n",
    "\n",
    "from sklearn.utils import check_random_state"
   ]
  },
  {
   "cell_type": "markdown",
   "metadata": {},
   "source": [
    "### Globals"
   ]
  },
  {
   "cell_type": "code",
   "execution_count": 3,
   "metadata": {
    "collapsed": true
   },
   "outputs": [],
   "source": [
    "seed = 1337\n",
    "random_number_generator = check_random_state(seed)\n",
    "\n",
    "batch_size = 512\n",
    "num_features = 1 # cos(A)\n",
    "num_epochs = 300\n",
    "gp_lambda = 5.0\n",
    "\n",
    "beam_energy = 45.0 # In GeV\n",
    "fermi_constant = 0.9\n",
    "\n",
    "theta_true = np.array([beam_energy, fermi_constant])"
   ]
  },
  {
   "cell_type": "markdown",
   "metadata": {},
   "source": [
    "### Utility Methods"
   ]
  },
  {
   "cell_type": "code",
   "execution_count": 4,
   "metadata": {
    "collapsed": true
   },
   "outputs": [],
   "source": [
    "def plot_observations(X_observed, theta_optimal, normed=True):\n",
    "    plt.grid(True)\n",
    "    plt.hist(X_observed, histtype=\"bar\", range=(-1, 1), bins=100, normed=normed)\n",
    "    plt.xlim([-1, 1])\n",
    "    if normed:\n",
    "        plt.ylim([0, 2])\n",
    "        plt.ylabel(\"Normalized Number of Events\")\n",
    "    else:\n",
    "        plt.ylim([0, 3000])\n",
    "        plt.ylabel(\"Number of Events\")\n",
    "    plt.title(r\"Distribution of $\\cos(A)$ in $e^-e^+ \\rightarrow \\mu^-\\mu^+$ events.\" + \"\\n\"\n",
    "              r\"$E_{beam}}$ = \" + str(theta_optimal[0]) + \"GeV   -   \" + r\"$G_f$ = \" + str(theta_optimal[1]))\n",
    "    plt.xlabel(r\"$\\cos(A)$\")\n",
    "    plt.show()\n",
    "    \n",
    "def random_gaussian(mu=[-1, 1], sigma=5.0):\n",
    "    return {'mu': np.random.uniform(mu[0], mu[1]),\n",
    "            'sigma': np.random.uniform(0.0, sigma)}\n",
    "\n",
    "def draw_gaussian(d, num_samples, random_state=None):\n",
    "    num_parameters = len(d['mu'])\n",
    "    thetas = np.zeros((num_samples, num_parameters))\n",
    "    mu = d['mu']\n",
    "    sigma = d['sigma']\n",
    "    for i in range(0, num_parameters):\n",
    "        thetas[:, i] = stats.norm.rvs(size=num_samples,\n",
    "                                      loc=mu[i], \n",
    "                                      scale=sigma[i],\n",
    "                                      random_state=random_number_generator)\n",
    "        \n",
    "    return thetas"
   ]
  },
  {
   "cell_type": "markdown",
   "metadata": {},
   "source": [
    "## Introduction\n",
    "\n",
    "TODO Explain goals."
   ]
  },
  {
   "cell_type": "markdown",
   "metadata": {},
   "source": [
    "## Problem Statement\n",
    "\n",
    "TODO"
   ]
  },
  {
   "cell_type": "markdown",
   "metadata": {},
   "source": [
    "## Simulator\n",
    "\n",
    "This notebook will only consider a simplified simulator from particle physics for electron-positron ($e^-e^+$) collisions resulting in muon-antipuon pairs ($\\mu^-\\mu^+$), i.e., $e^-e^+ \\rightarrow \\mu^-\\mu^+$. The simulator approximates the distribution of observed measurements $\\mathbf{x} = \\cos(A) \\in [-1, 1]$, where $A$ is the polar angle of the center of mass momenta of the outgoing muon with respect to the originally incoming electron. When we neglect the measurement uncertainty induced fromt he particle detectors, this random variable is approximately distributed as:\n",
    "\n",
    "**Additional information**: [Positron - Electron Annihilation into Muon - Anti-muon](http://geant4.cern.ch/G4UsersDocuments/UsersGuides/PhysicsReferenceManual/html/node44.html)"
   ]
  },
  {
   "cell_type": "code",
   "execution_count": 5,
   "metadata": {
    "collapsed": true
   },
   "outputs": [],
   "source": [
    "def simulator(theta, n_samples, random_state=None):\n",
    "    rng = check_random_state(random_state)\n",
    "    samples = rej_sample_costheta(n_samples, theta, rng)\n",
    "\n",
    "    return samples.reshape(-1, 1)\n",
    "\n",
    "def rej_sample_costheta(n_samples, theta, rng):\n",
    "    #sqrtshalf = theta[0] * (50 - 40) + 40\n",
    "    #gf = theta[1] * (1.5 - 0.5) + 0.5\n",
    "    sqrtshalf = theta[0]\n",
    "    gf = theta[1]\n",
    "    \n",
    "    ntrials = 0\n",
    "    samples = []\n",
    "    x = np.linspace(-1, 1, num=1000)\n",
    "    maxval = np.max(diffxsec(x, sqrtshalf, gf))\n",
    "\n",
    "    while len(samples) < n_samples:\n",
    "        ntrials = ntrials + 1\n",
    "        xprop = rng.uniform(-1, 1)\n",
    "        ycut = rng.rand()\n",
    "        yprop = diffxsec(xprop, sqrtshalf, gf) / maxval\n",
    "        if (yprop / maxval) < ycut:\n",
    "            continue\n",
    "        samples.append(xprop)\n",
    "\n",
    "    return np.array(samples)\n",
    "\n",
    "def diffxsec(costheta, sqrtshalf, gf):\n",
    "    norm = 2. * (1. + 1. / 3.)\n",
    "    return ((1 + costheta ** 2) + a_fb(sqrtshalf, gf) * costheta) / norm\n",
    "\n",
    "def a_fb(sqrtshalf, gf):\n",
    "    mz = 90\n",
    "    gf_nom = 0.9\n",
    "    sqrts = sqrtshalf * 2.\n",
    "    a_fb_en = np.tanh((sqrts - mz) / mz * 10)\n",
    "    a_fb_gf = gf / gf_nom\n",
    "\n",
    "    return 2 * a_fb_en * a_fb_gf"
   ]
  },
  {
   "cell_type": "code",
   "execution_count": 6,
   "metadata": {},
   "outputs": [
    {
     "data": {
      "image/png": "[encoded data removed]",
      "text/plain": [
       "<matplotlib.figure.Figure at 0x7eff8e116390>"
      ]
     },
     "metadata": {},
     "output_type": "display_data"
    },
    {
     "data": {
      "image/png": "[encoded data removed]",
      "text/plain": [
       "<matplotlib.figure.Figure at 0x7eff8b5d90b8>"
      ]
     },
     "metadata": {},
     "output_type": "display_data"
    },
    {
     "data": {
      "image/png": "[encoded data removed]",
      "text/plain": [
       "<matplotlib.figure.Figure at 0x7eff8b5bec88>"
      ]
     },
     "metadata": {},
     "output_type": "display_data"
    }
   ],
   "source": [
    "# Show the different distributions of cos(A) for different beam energies.\n",
    "for energy in range(40, 51, 5):\n",
    "    theta = np.array([energy, fermi_constant])\n",
    "    X_observed = simulator(theta, 100000, random_state=random_number_generator)\n",
    "    plot_observations(X_observed, theta)"
   ]
  },
  {
   "cell_type": "markdown",
   "metadata": {},
   "source": [
    "## Model\n",
    "\n",
    "In this section we describe the adverserial model we'll be training to fit the adverserial objective."
   ]
  },
  {
   "cell_type": "code",
   "execution_count": 7,
   "metadata": {
    "collapsed": true
   },
   "outputs": [],
   "source": [
    "class Critic(torch.nn.Module):\n",
    "    \n",
    "    def __init__(self, num_features, num_hidden):\n",
    "        super(Critic, self).__init__()\n",
    "        self.fc_1 = torch.nn.Linear(num_features, num_hidden)\n",
    "        self.fc_2 = torch.nn.Linear(num_hidden, num_hidden)\n",
    "        self.fc_3 = torch.nn.Linear(num_hidden, 1)\n",
    "        \n",
    "    def forward(self, x):\n",
    "        x = F.relu(self.fc_1(x))\n",
    "        x = F.relu(self.fc_2(x))\n",
    "        x = F.sigmoid(self.fc_3(x))\n",
    "        \n",
    "        return x"
   ]
  },
  {
   "cell_type": "markdown",
   "metadata": {},
   "source": [
    "### Experimental Data\n",
    "\n",
    "Before any inference can be done on our parameters of interest, i.e., the beam energy, $E_{beam}$, and Fermi's constant, $G_f$, some kind of experiment needs to sample from the computation of Nature, which is the distribution $p_r(x)$. However, in order to sample from this distribution, an experiment will have to be build, and data needs to be collected with this experiment.\n",
    "\n",
    "To reduce the cost which is associated with building an experiment, and connecting it with this notebook, we simply run a simulator with the parameterization for which we now represent the \"true\" physical parameters, i.e.: $E_{beam} = 42$ GeV and $G_f = .9$."
   ]
  },
  {
   "cell_type": "code",
   "execution_count": 8,
   "metadata": {},
   "outputs": [
    {
     "data": {
      "image/png": "[encoded data removed]",
      "text/plain": [
       "<matplotlib.figure.Figure at 0x7eff8b4ff860>"
      ]
     },
     "metadata": {},
     "output_type": "display_data"
    }
   ],
   "source": [
    "# Obtain the samples from the experiment.\n",
    "p_r_x = simulator(theta_true,100000, random_state=random_number_generator)\n",
    "\n",
    "# Draw the distribution.\n",
    "plot_observations(p_r_x, theta_true)"
   ]
  },
  {
   "cell_type": "markdown",
   "metadata": {},
   "source": [
    "### Prior Initialization"
   ]
  },
  {
   "cell_type": "code",
   "execution_count": 9,
   "metadata": {
    "collapsed": true
   },
   "outputs": [],
   "source": [
    "# Initialize prior of p(theta | phi).\n",
    "p_theta_phi = {'mu': [], 'sigma': []}\n",
    "\n",
    "# Sample a random Gaussian for the beam energy.\n",
    "g = random_gaussian(mu=[30, 60], sigma=1.0)\n",
    "p_theta_phi['mu'].append(g['mu'])\n",
    "p_theta_phi['sigma'].append(g['sigma'])\n",
    "\n",
    "# Sample a random Gaussian for Fermi's paradox.\n",
    "g = random_gaussian(mu=[0, 2], sigma=1.0)\n",
    "p_theta_phi['mu'].append(g['mu'])\n",
    "p_theta_phi['sigma'].append(g['sigma'])"
   ]
  },
  {
   "cell_type": "code",
   "execution_count": 10,
   "metadata": {},
   "outputs": [
    {
     "data": {
      "image/png": "[encoded data removed]",
      "text/plain": [
       "<matplotlib.figure.Figure at 0x7eff8b444da0>"
      ]
     },
     "metadata": {},
     "output_type": "display_data"
    }
   ],
   "source": [
    "# Obtain the parameterization of the beam energy prior.\n",
    "prior_beam_energy_mu = p_theta_phi['mu'][0]\n",
    "prior_beam_energy_sigma = p_theta_phi['sigma'][0]\n",
    "prior_beam_energy_variance = prior_beam_energy_sigma ** 2\n",
    "\n",
    "# Draw the prior over the beam enery.\n",
    "x = np.linspace(30, 60, 1000)\n",
    "plt.plot(x, mlab.normpdf(x, prior_beam_energy_mu, prior_beam_energy_sigma))\n",
    "plt.xlim([30, 60])\n",
    "plt.ylim([0, 2])\n",
    "plt.xlabel(\"GeV\")\n",
    "plt.grid(True)\n",
    "plt.title(r\"Prior $p(E_{beam}|\\Psi)$\")\n",
    "plt.show()"
   ]
  },
  {
   "cell_type": "code",
   "execution_count": 11,
   "metadata": {},
   "outputs": [
    {
     "data": {
      "image/png": "[encoded data removed]",
      "text/plain": [
       "<matplotlib.figure.Figure at 0x7eff8df47d30>"
      ]
     },
     "metadata": {},
     "output_type": "display_data"
    }
   ],
   "source": [
    "# Obtain the parameterization of Fermi's constant prior.\n",
    "prior_gf_mu = p_theta_phi['mu'][1]\n",
    "prior_gf_sigma = p_theta_phi['sigma'][1]\n",
    "prior_gf_variance = prior_gf_sigma ** 2\n",
    "\n",
    "# Draw the prior over the beam enery.\n",
    "x = np.linspace(-2, 3, 1000)\n",
    "plt.plot(x, mlab.normpdf(x, prior_gf_mu, prior_gf_sigma))\n",
    "plt.xlim([-2, 3])\n",
    "plt.ylim([0, 2])\n",
    "plt.grid(True)\n",
    "plt.title(r\"Prior $p(G_f|\\Psi)$\")\n",
    "plt.show()"
   ]
  },
  {
   "cell_type": "markdown",
   "metadata": {},
   "source": [
    "### Sample $\\theta$'s from prior"
   ]
  },
  {
   "cell_type": "markdown",
   "metadata": {},
   "source": [
    "We only have to sample $\\frac{1}{2}$ batch-size samples from the generator since the other half will be filled with fake examples."
   ]
  },
  {
   "cell_type": "code",
   "execution_count": 12,
   "metadata": {
    "collapsed": true
   },
   "outputs": [],
   "source": [
    "thetas = draw_gaussian(p_theta_phi, batch_size // 2, random_state=random_number_generator)"
   ]
  },
  {
   "cell_type": "markdown",
   "metadata": {},
   "source": [
    "Now we have sampled some thetas (both $E_{beam}$ and $G_f$ that have to be simulated in order to make a prediction, we can plot them to check if the match our prior over those parameters."
   ]
  },
  {
   "cell_type": "code",
   "execution_count": 13,
   "metadata": {},
   "outputs": [
    {
     "data": {
      "image/png": "[encoded data removed]",
      "text/plain": [
       "<matplotlib.figure.Figure at 0x7eff8b4ffcf8>"
      ]
     },
     "metadata": {},
     "output_type": "display_data"
    },
    {
     "data": {
      "image/png": "[encoded data removed]",
      "text/plain": [
       "<matplotlib.figure.Figure at 0x7eff8b857a20>"
      ]
     },
     "metadata": {},
     "output_type": "display_data"
    }
   ],
   "source": [
    "theta_beam_energy = thetas[:, 0]\n",
    "theta_fermi_constant = thetas[:, 1]\n",
    "\n",
    "# Plot the histogram of the sampled beam energy.\n",
    "plt.title(r\"$E_{beam}$ histogram from $p(\\theta|\\psi)$\")\n",
    "plt.hist(theta_beam_energy, bins=100)\n",
    "plt.grid(True)\n",
    "plt.xlabel(r\"$E_{beam}$ in GeV\")\n",
    "plt.ylabel(\"Number of occurences\")\n",
    "plt.show()\n",
    "\n",
    "# Plot the histogram of the sampled Fermi's constant.\n",
    "plt.title(r\"$G_f$ histogram from $p(\\theta|\\psi)$\")\n",
    "plt.hist(theta_fermi_constant, bins=100)\n",
    "plt.grid(True)\n",
    "plt.xlabel(r\"$G_f$\")\n",
    "plt.ylabel(\"Number of occurences\")\n",
    "plt.show()"
   ]
  },
  {
   "cell_type": "markdown",
   "metadata": {},
   "source": [
    "### Constructing training data\n",
    "\n",
    "The authors use the sampled theta's to obtain a sample from the simulator under the specified configuration. This can be treated as an instance of \"fake\" information."
   ]
  },
  {
   "cell_type": "code",
   "execution_count": 14,
   "metadata": {
    "collapsed": true
   },
   "outputs": [],
   "source": [
    "# Create input-vector of generated features under theta (E_beam and G_f).\n",
    "_x_generated = np.zeros((batch_size // 2, num_features))\n",
    "\n",
    "# Apply the simulator to generate the samples.\n",
    "for i, theta in enumerate(thetas):\n",
    "    sample = simulator(theta, 1, random_state=random_number_generator)\n",
    "    _x_generated[i, :] = sample"
   ]
  },
  {
   "cell_type": "markdown",
   "metadata": {},
   "source": [
    "Of course, adverserial training requires \"true\" samples as well. In the current approach, this is done be sampling from the *true* experimental information, i.e., observed data."
   ]
  },
  {
   "cell_type": "code",
   "execution_count": 15,
   "metadata": {
    "collapsed": true
   },
   "outputs": [],
   "source": [
    "# Create input-vector of real features.\n",
    "_x_real = np.zeros((batch_size // 2, num_features))\n",
    "num_observations = len(p_r_x)\n",
    "\n",
    "# Sample randomly from observed distribution.\n",
    "for i in range(0, batch_size // 2):\n",
    "    index = random_number_generator.randint(low=0, high=num_observations)\n",
    "    sample = p_r_x[index]\n",
    "    _x_real[i, :] = sample.ravel()"
   ]
  },
  {
   "cell_type": "markdown",
   "metadata": {},
   "source": [
    "Vertically stack the generated and real vector to form a single training batch, and finally, construct an expected output vector to construct the loss of the critic."
   ]
  },
  {
   "cell_type": "code",
   "execution_count": 16,
   "metadata": {
    "collapsed": true
   },
   "outputs": [],
   "source": [
    "# Construct the input vector.\n",
    "x = np.vstack([_x_generated, _x_real])\n",
    "\n",
    "# Construct the expected output of the critic.\n",
    "y_expected = np.zeros((batch_size, 1))\n",
    "# Set the real samples to 1.\n",
    "y_expected[batch_size // 2:] = 1.0"
   ]
  },
  {
   "cell_type": "markdown",
   "metadata": {},
   "source": [
    "### Forward pass of the critic"
   ]
  },
  {
   "cell_type": "code",
   "execution_count": 17,
   "metadata": {
    "collapsed": true
   },
   "outputs": [],
   "source": [
    "# Define the critic with the specified number of hidden neurons.\n",
    "num_hidden = 20\n",
    "\n",
    "# Allocate the Critic with the specified configuration.\n",
    "critic = Critic(num_features, num_hidden)"
   ]
  },
  {
   "cell_type": "code",
   "execution_count": 18,
   "metadata": {
    "collapsed": true
   },
   "outputs": [],
   "source": [
    "# Convert the Numpy array to a PyTorch Variable\n",
    "x = torch.autograd.Variable(torch.from_numpy(x).float(), requires_grad=False)\n",
    "y_expected = torch.autograd.Variable(torch.from_numpy(y_expected).float(), requires_grad=False)"
   ]
  },
  {
   "cell_type": "code",
   "execution_count": 19,
   "metadata": {},
   "outputs": [
    {
     "data": {
      "image/png": "[encoded data removed]",
      "text/plain": [
       "<matplotlib.figure.Figure at 0x7eff8b2d6978>"
      ]
     },
     "metadata": {},
     "output_type": "display_data"
    }
   ],
   "source": [
    "# Allocate the Critic with the specified configuration.\n",
    "critic = Critic(num_features, num_hidden)\n",
    "\n",
    "# Do the prediction.\n",
    "y = critic(x)\n",
    "\n",
    "# Plot the histogram of the prediction.\n",
    "plt.hist(y.data.numpy(), bins=100, normed=True)\n",
    "plt.grid(True)\n",
    "plt.xlim([0, 1])\n",
    "plt.xlabel(r\"Prediction Distribution\")\n",
    "plt.ylabel(\"Number of Events\")\n",
    "plt.title(\"Prediction Histogram\")\n",
    "plt.show()"
   ]
  },
  {
   "cell_type": "markdown",
   "metadata": {},
   "source": [
    "### Backward pass of the critic\n",
    "\n",
    "To enable the optimization of the Critic, we need to define an optimizer. Of course, we could implement this by hand, but we can Simply use the Adam optimizer which is already provided by PyTorch."
   ]
  },
  {
   "cell_type": "code",
   "execution_count": 20,
   "metadata": {
    "collapsed": true
   },
   "outputs": [],
   "source": [
    "_x_r = Variable(torch.from_numpy(_x_real).float(), requires_grad=True)\n",
    "_x_g = Variable(torch.from_numpy(_x_generated).float(), requires_grad=True)"
   ]
  },
  {
   "cell_type": "code",
   "execution_count": 21,
   "metadata": {
    "collapsed": true
   },
   "outputs": [],
   "source": [
    "def compute_gradient_penalty(net, real, fake):\n",
    "    epsilon = torch.rand(batch_size // 2, 1)\n",
    "    _x_hat = epsilon * real + ((1. - epsilon) * fake)\n",
    "    _x_hat = Variable(_x_hat, requires_grad=True)\n",
    "    y_hat = net(_x_hat)\n",
    "    \n",
    "    gradients = torch.autograd.grad(outputs=y_hat, inputs=_x_hat, grad_outputs=torch.ones(y_hat.size()),\n",
    "                                    create_graph=True, retain_graph=True, only_inputs=True)[0]\n",
    "    g = gradients + 1e-16\n",
    "    gradient_penalty = 5.0 * ((g.norm(2, dim=1) - 1) ** 2).mean()\n",
    "\n",
    "    return gradient_penalty"
   ]
  },
  {
   "cell_type": "code",
   "execution_count": 22,
   "metadata": {},
   "outputs": [
    {
     "data": {
      "text/plain": [
       "44494"
      ]
     },
     "execution_count": 22,
     "metadata": {},
     "output_type": "execute_result"
    }
   ],
   "source": [
    "import gc\n",
    "\n",
    "gc.collect()"
   ]
  },
  {
   "cell_type": "code",
   "execution_count": 23,
   "metadata": {
    "collapsed": true
   },
   "outputs": [],
   "source": [
    "optimizer = torch.optim.Adam(critic.parameters(), lr=0.001)"
   ]
  },
  {
   "cell_type": "code",
   "execution_count": 56,
   "metadata": {},
   "outputs": [
    {
     "name": "stdout",
     "output_type": "stream",
     "text": [
      "Wasserstein: [ 0.0017063]\n",
      "Gradient Penalty: [ 4.60952568]\n",
      "Loss: [ 5.6112318]\n"
     ]
    },
    {
     "data": {
      "image/png": "[encoded data removed]",
      "text/plain": [
       "<matplotlib.figure.Figure at 0x7eff6970ecf8>"
      ]
     },
     "metadata": {},
     "output_type": "display_data"
    }
   ],
   "source": [
    "one = Variable(torch.FloatTensor([1]), requires_grad=True)\n",
    "ones = Variable(torch.ones(batch_size // 2, 1), requires_grad=True)\n",
    "zero = torch.FloatTensor([0])\n",
    "mone = one * -1\n",
    "\n",
    "for i in range(0, 1000):\n",
    "    # Reset the gradients.\n",
    "    critic.zero_grad()\n",
    "    # Train with real.\n",
    "    y_r = critic(_x_r).mean()\n",
    "    y_r.backward(mone)\n",
    "    # Train with fake.\n",
    "    y_g = critic(_x_g).mean()\n",
    "    y_g.backward(one)\n",
    "    # Train with gradient penalty.\n",
    "    gp = compute_gradient_penalty(critic, _x_r.data, _x_g.data)\n",
    "    gp.backward()\n",
    "    loss = y_g - y_r + 1 + gp\n",
    "    optimizer.step()\n",
    "\n",
    "gc.collect()\n",
    "print(\"Wasserstein: \" + str((y_g - y_r).mean().data.numpy()))\n",
    "print(\"Gradient Penalty: \" + str(gp.mean().data.numpy()))\n",
    "print(\"Loss: \" + str(loss.mean().data.numpy()))\n",
    "\n",
    "# Do the prediction.\n",
    "y = critic(x)\n",
    "\n",
    "# Plot the histogram of the prediction.\n",
    "plt.hist(y.data.numpy(), bins=100)\n",
    "plt.grid(True)\n",
    "plt.xlabel(r\"Prediction Distribution\")\n",
    "plt.ylabel(\"Number of Events\")\n",
    "plt.title(\"Prediction Histogram\")\n",
    "plt.xlim([0, 1])\n",
    "plt.show()"
   ]
  },
  {
   "cell_type": "code",
   "execution_count": 58,
   "metadata": {},
   "outputs": [
    {
     "data": {
      "image/png": "[encoded data removed]",
      "text/plain": [
       "<matplotlib.figure.Figure at 0x7eff6804c908>"
      ]
     },
     "metadata": {},
     "output_type": "display_data"
    }
   ],
   "source": [
    "new = plt.scatter(x.data.numpy(), y.data.numpy())\n",
    "old = plt.scatter(x.data.numpy(), y_old.data.numpy())\n",
    "plt.legend([new, old], ['t', 't - 1'])\n",
    "plt.xlabel(r\"$\\cos(A)$\")\n",
    "plt.ylabel(\"Likelihood Classified as Real\")\n",
    "plt.title(\"Likelihood of being part of the distribution given input.\")\n",
    "plt.xlim([-1, 1])\n",
    "plt.ylim([0, 1])\n",
    "plt.grid(True)\n",
    "plt.show()\n",
    "y_old = y"
   ]
  },
  {
   "cell_type": "code",
   "execution_count": 25,
   "metadata": {
    "collapsed": true
   },
   "outputs": [],
   "source": [
    "y_old = y"
   ]
  },
  {
   "cell_type": "code",
   "execution_count": null,
   "metadata": {
    "collapsed": true
   },
   "outputs": [],
   "source": []
  }
 ],
 "metadata": {
  "kernelspec": {
   "display_name": "Python 3",
   "language": "python",
   "name": "python3"
  },
  "language_info": {
   "codemirror_mode": {
    "name": "ipython",
    "version": 3
   },
   "file_extension": ".py",
   "mimetype": "text/x-python",
   "name": "python",
   "nbconvert_exporter": "python",
   "pygments_lexer": "ipython3",
   "version": "3.6.1"
  }
 },
 "nbformat": 4,
 "nbformat_minor": 2
}
