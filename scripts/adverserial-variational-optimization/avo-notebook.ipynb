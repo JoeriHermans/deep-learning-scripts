{
 "cells": [
  {
   "cell_type": "markdown",
   "metadata": {},
   "source": [
    "# Adverserial Variational Optimization\n",
    "\n",
    "*Gilles Louppe & Kayle Cranmer*\n",
    "\n",
    "Notebook by Joeri Hermans"
   ]
  },
  {
   "cell_type": "code",
   "execution_count": 1,
   "metadata": {},
   "outputs": [
    {
     "name": "stdout",
     "output_type": "stream",
     "text": [
      "Tue Oct 10 16:07:18 CEST 2017\r\n"
     ]
    }
   ],
   "source": [
    "!date"
   ]
  },
  {
   "cell_type": "markdown",
   "metadata": {},
   "source": [
    "Complex computer simulators are increasingly used across fields of science as generative models tying parameters of an underlying theory to experimental observations. Inference in this setup is often difficult, as simulators rarely admit a tractable density or likelihood function. We introduce Adversarial Variational Optimization (AVO), a likelihood-free inference algorithm for fitting a non-differentiable generative model incorporating ideas from empirical Bayes and variational inference. We adapt the training procedure of generative adversarial networks by replacing the differentiable generative network with a domain-specific simulator. We solve the resulting non-differentiable minimax problem by minimizing variational upper bounds of the two adversarial objectives. Effectively, the procedure results in learning a proposal distribution over simulator parameters, such that the corresponding marginal distribution of the generated data matches the observations. We present results of the method with simulators producing both discrete and continuous data.\n",
    "\n",
    "**Manuscript**: [https://arxiv.org/abs/1707.07113](https://arxiv.org/abs/1707.07113)"
   ]
  },
  {
   "cell_type": "markdown",
   "metadata": {},
   "source": [
    "## Configuration\n",
    "\n",
    "### Imports"
   ]
  },
  {
   "cell_type": "code",
   "execution_count": 23,
   "metadata": {
    "collapsed": true
   },
   "outputs": [],
   "source": [
    "import numpy as np\n",
    "import torch\n",
    "import matplotlib.pyplot as plt\n",
    "\n",
    "from sklearn.utils import check_random_state"
   ]
  },
  {
   "cell_type": "markdown",
   "metadata": {},
   "source": [
    "### Globals"
   ]
  },
  {
   "cell_type": "code",
   "execution_count": 15,
   "metadata": {},
   "outputs": [],
   "source": [
    "seed = 1337\n",
    "random_number_generator = check_random_state(seed)\n",
    "\n",
    "batch_size = 64\n",
    "num_epochs = 300\n",
    "\n",
    "theta_true = np.array([(42.0-40)/(50-40), (0.9 - 0.5) / (1.5-0.5)])"
   ]
  },
  {
   "cell_type": "markdown",
   "metadata": {},
   "source": [
    "## Introduction\n",
    "\n",
    "TODO Explain goals."
   ]
  },
  {
   "cell_type": "markdown",
   "metadata": {},
   "source": [
    "## Problem Statement\n",
    "\n",
    "TODO"
   ]
  },
  {
   "cell_type": "markdown",
   "metadata": {},
   "source": [
    "## Simulator\n",
    "\n",
    "This notebook will only consider a simplified simulator from particle physics for electron-positron ($e^-e^+$) collisions resulting in muon-antipuon pairs ($\\mu^-\\mu^+$), i.e., $e^-e^+ \\rightarrow \\mu^-\\mu^+$. The simulator approximates the distribution of observed measurements $\\mathbf{x} = \\cos(A) \\in [-1, 1]$, where $A$ is the polar angle of the center of mass momenta of the outgoing muon with respect to the originally incoming electron. When we neglect the measurement uncertainty induced fromt he particle detectors, this random variable is approximately distributed as:\n",
    "\n",
    "**Additional information**: [Positron - Electron Annihilation into Muon - Anti-muon](http://geant4.cern.ch/G4UsersDocuments/UsersGuides/PhysicsReferenceManual/html/node44.html)"
   ]
  },
  {
   "cell_type": "code",
   "execution_count": 16,
   "metadata": {
    "collapsed": true
   },
   "outputs": [],
   "source": [
    "def simulator(theta, n_samples, random_state=None):\n",
    "    rng = check_random_state(random_state)\n",
    "    samples = rej_sample_costheta(n_samples, theta, rng)\n",
    "\n",
    "    return samples.reshape(-1, 1)\n",
    "\n",
    "def rej_sample_costheta(n_samples, theta, rng):\n",
    "    sqrtshalf = theta[0] * (50 - 40) + 40\n",
    "    gf = theta[1] * (1.5 - 0.5) + 0.5\n",
    "\n",
    "    ntrials = 0\n",
    "    samples = []\n",
    "    x = np.linspace(-1, 1, num=1000)\n",
    "    maxval = np.max(diffxsec(x, sqrtshalf, gf))\n",
    "\n",
    "    while len(samples) < n_samples:\n",
    "        ntrials = ntrials + 1\n",
    "        xprop = rng.uniform(-1, 1)\n",
    "        ycut = rng.rand()\n",
    "        yprop = diffxsec(xprop, sqrtshalf, gf) / maxval\n",
    "        if (yprop / maxval) < ycut:\n",
    "            continue\n",
    "        samples.append(xprop)\n",
    "\n",
    "    return np.array(samples)\n",
    "\n",
    "def diffxsec(costheta, sqrtshalf, gf):\n",
    "    norm = 2. * (1. + 1. / 3.)\n",
    "    return ((1 + costheta ** 2) + a_fb(sqrtshalf, gf) * costheta) / norm\n",
    "\n",
    "def a_fb(sqrtshalf, gf):\n",
    "    mz = 90\n",
    "    gf_nom = 1.0\n",
    "    sqrts = sqrtshalf * 2.\n",
    "    a_fb_en = np.tanh((sqrts - mz) / mz * 10)\n",
    "    a_fb_gf = gf / gf_nom\n",
    "\n",
    "    return 2 * a_fb_en * a_fb_gf"
   ]
  },
  {
   "cell_type": "markdown",
   "metadata": {},
   "source": [
    "## Test"
   ]
  },
  {
   "cell_type": "code",
   "execution_count": 44,
   "metadata": {},
   "outputs": [],
   "source": [
    "X_obs = simulator(theta_true, 50000, random_state=random_number_generator)\n",
    "num_params = len(theta_true)\n",
    "num_features = X_obs.shape[1]"
   ]
  },
  {
   "cell_type": "code",
   "execution_count": 50,
   "metadata": {},
   "outputs": [
    {
     "data": {
      "image/png": "[encoded data removed]",
      "text/plain": [
       "<matplotlib.figure.Figure at 0x7f77b72730f0>"
      ]
     },
     "metadata": {},
     "output_type": "display_data"
    }
   ],
   "source": [
    "plt.hist(X_obs, histtype=\"bar\", range=(-1, 1), bins=100, normed=1)\n",
    "plt.xlim([-1, 1])\n",
    "plt.title(r\"Distribution of $e^-e^+ \\rightarrow \\mu^-\\mu^+$ when $\\theta^* = $\" + str(theta_true))\n",
    "plt.xlabel(r\"$\\cos(A)$\")\n",
    "plt.show()"
   ]
  },
  {
   "cell_type": "markdown",
   "metadata": {},
   "source": [
    "## Conclusion"
   ]
  },
  {
   "cell_type": "code",
   "execution_count": null,
   "metadata": {
    "collapsed": true
   },
   "outputs": [],
   "source": []
  }
 ],
 "metadata": {
  "kernelspec": {
   "display_name": "Python 3",
   "language": "python",
   "name": "python3"
  },
  "language_info": {
   "codemirror_mode": {
    "name": "ipython",
    "version": 3
   },
   "file_extension": ".py",
   "mimetype": "text/x-python",
   "name": "python",
   "nbconvert_exporter": "python",
   "pygments_lexer": "ipython3",
   "version": "3.5.3"
  }
 },
 "nbformat": 4,
 "nbformat_minor": 2
}
