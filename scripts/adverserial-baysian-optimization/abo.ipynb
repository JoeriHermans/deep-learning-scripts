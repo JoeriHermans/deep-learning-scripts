{
 "cells": [
  {
   "cell_type": "markdown",
   "metadata": {},
   "source": [
    "# Adverserial Baysian Optimization\n",
    "\n",
    "Joeri R. Hermans and Gilles Louppe"
   ]
  },
  {
   "cell_type": "code",
   "execution_count": 3,
   "metadata": {},
   "outputs": [
    {
     "name": "stdout",
     "output_type": "stream",
     "text": [
      "Mon Oct 30 19:12:55 CET 2017\r\n"
     ]
    }
   ],
   "source": [
    "!date"
   ]
  },
  {
   "cell_type": "markdown",
   "metadata": {},
   "source": [
    "## Introduction"
   ]
  },
  {
   "cell_type": "code",
   "execution_count": 4,
   "metadata": {
    "collapsed": true
   },
   "outputs": [],
   "source": [
    "import torch\n",
    "import numpy as np\n",
    "import math\n",
    "import random\n",
    "import torch.nn.functional as F\n",
    "import matplotlib.pyplot as plt\n",
    "\n",
    "from sklearn.gaussian_process.kernels import ConstantKernel, RBF\n",
    "from sklearn.utils import check_random_state"
   ]
  },
  {
   "cell_type": "markdown",
   "metadata": {},
   "source": [
    "## Utility methods"
   ]
  },
  {
   "cell_type": "code",
   "execution_count": 5,
   "metadata": {
    "collapsed": true
   },
   "outputs": [],
   "source": [
    "def add_prior_beam_energy(prior):\n",
    "    g = random_gaussian(mu=[30, 60], sigma=1.0)\n",
    "    add_prior(prior, g['mu'], g['sigma'])\n",
    "\n",
    "\n",
    "def add_prior_fermi_constant(prior):\n",
    "    g = random_gaussian(mu=[0, 2], sigma=1.0)\n",
    "    add_prior(prior, g['mu'], g['sigma'])\n",
    "\n",
    "\n",
    "def add_prior(prior, mu, sigma):\n",
    "    prior['mu'].append(mu)\n",
    "    prior['sigma'].append(sigma)\n",
    "\n",
    "\n",
    "def random_gaussian(mu=[-1, 1], sigma=5.0):\n",
    "    return {'mu': np.random.uniform(mu[0], mu[1]),\n",
    "            'sigma': np.random.uniform(0.0, sigma)}\n",
    "\n",
    "\n",
    "def draw_gaussian(d, num_samples, random_state=None):\n",
    "    num_parameters = len(d['mu'])\n",
    "    thetas = torch.zeros((num_samples, num_parameters))\n",
    "    mu = d['mu']\n",
    "    sigma = d['sigma'].exp()\n",
    "    for i in range(0, num_samples):\n",
    "        gaussian = torch.normal(mu, sigma)\n",
    "        thetas[i, :] = gaussian\n",
    "\n",
    "    return thetas\n",
    "\n",
    "\n",
    "def real_experiment(theta, n_samples=100000):\n",
    "    return simulator(theta, n_samples)\n",
    "\n",
    "\n",
    "def simulator(theta, n_samples, random_state=None):\n",
    "    rng = check_random_state(random_state)\n",
    "    samples = simulator_rej_sample_costheta(n_samples, theta, rng)\n",
    "\n",
    "    return torch.from_numpy(samples.reshape(-1, 1)).float()\n",
    "\n",
    "\n",
    "def simulator_rej_sample_costheta(n_samples, theta, rng):\n",
    "    sqrtshalf = theta[0]\n",
    "    gf = theta[1]\n",
    "\n",
    "    ntrials = 0\n",
    "    samples = []\n",
    "    x = torch.linspace(-1, 1, steps=1000)\n",
    "    maxval = torch.max(simulator_diffxsec(x, sqrtshalf, gf))\n",
    "\n",
    "    while len(samples) < n_samples:\n",
    "        ntrials = ntrials + 1\n",
    "        xprop = rng.uniform(-1, 1)\n",
    "        ycut = rng.rand()\n",
    "        yprop = (simulator_diffxsec(xprop, sqrtshalf, gf) / maxval)[0]\n",
    "        if (yprop / maxval) < ycut:\n",
    "            continue\n",
    "        samples.append(xprop)\n",
    "\n",
    "    return np.array(samples)\n",
    "\n",
    "\n",
    "def simulator_diffxsec(costheta, sqrtshalf, gf):\n",
    "    norm = 2. * (1. + 1. / 3.)\n",
    "    return ((1 + costheta ** 2) + simulator_a_fb(sqrtshalf, gf) * costheta) / norm\n",
    "\n",
    "\n",
    "def simulator_a_fb(sqrtshalf, gf):\n",
    "    mz = 90\n",
    "    gf_nom = 0.9\n",
    "    sqrts = sqrtshalf * 2.\n",
    "    x = torch.FloatTensor([(sqrts - mz) / mz * 10])\n",
    "    a_fb_en = torch.tanh(x)\n",
    "    a_fb_gf = gf / gf_nom\n",
    "\n",
    "    return 2 * a_fb_en * a_fb_gf\n",
    "\n",
    "\n",
    "def plot_observations(X_observed, theta, normed=True):\n",
    "    plt.grid(True)\n",
    "    plt.hist(X_observed, histtype=\"bar\", range=(-1, 1), bins=100, normed=normed)\n",
    "    plt.xlim([-1, 1])\n",
    "    if normed:\n",
    "        plt.ylim([0, 2])\n",
    "        plt.ylabel(\"Normalized Number of Events\")\n",
    "    else:\n",
    "        plt.ylim([0, 3000])\n",
    "        plt.ylabel(\"Number of Events\")\n",
    "    plt.title(r\"Distribution of $\\cos(A)$ in $e^-e^+ \\rightarrow \\mu^-\\mu^+$ events.\" + \"\\n\"\n",
    "              r\"$E_{beam}}$ = \" + str(theta[0]) + \"GeV   -   \" + r\"$G_f$ = \" + str(theta[1]))\n",
    "    plt.xlabel(r\"$\\cos(A)$\")\n",
    "    plt.show()\n",
    "\n",
    "    \n",
    "def sample_real_data(p_r, batch_size=256):\n",
    "    samples = torch.zeros((batch_size, 1))\n",
    "    num_samples_p_r = len(p_r)\n",
    "    for index in range(0, batch_size):\n",
    "        random_index = random.randint(0, num_samples_p_r - 1)\n",
    "        samples[index, :] = p_r[random_index]\n",
    "\n",
    "    return torch.autograd.Variable(samples, requires_grad=True)\n",
    "\n",
    "\n",
    "def sample_generated_data(proposal, batch_size=256):\n",
    "    # Sample `batch_size` thetas according to our proposal distribution.\n",
    "    thetas = draw_gaussian(proposal, batch_size)\n",
    "    # Obtain the individual Gaussians.\n",
    "    theta_beam_energy = thetas[:, 0]\n",
    "    theta_fermi_constant = thetas[:, 1]\n",
    "    # Sample according to the proposal distribution.\n",
    "    samples = torch.zeros((batch_size, 1))\n",
    "    for sample_index, theta in enumerate(thetas):\n",
    "        samples[sample_index, :] = simulator(theta, 1)\n",
    "\n",
    "    return torch.autograd.Variable(samples, requires_grad=True)\n",
    "    \n",
    "    \n",
    "def compute_gradient_penalty(critic, real, fake, l=5.0):\n",
    "    # Compute x_hat and its output.\n",
    "    epsilon = torch.rand(real.size())\n",
    "    x_hat = epsilon * real + ((1. - epsilon) * fake)\n",
    "    x_hat = torch.autograd.Variable(x_hat, requires_grad=True)\n",
    "    y_hat = critic(x_hat)\n",
    "    # Compute the associated gradients.\n",
    "    gradients = torch.autograd.grad(outputs=y_hat, inputs=x_hat,\n",
    "                                    grad_outputs=torch.ones(y_hat.size()),\n",
    "                                    create_graph=True, retain_graph=True, only_inputs=True)[0]\n",
    "    # Prevent norm 0 causing NaN.\n",
    "    gradients = gradients + 1e-16\n",
    "    # Compute the gradient penalty.\n",
    "    gradient_penalty = l * ((gradients.norm(2, dim=1) - 1.) ** 2)\n",
    "\n",
    "    return gradient_penalty\n",
    "    \n",
    "\n",
    "class Critic(torch.nn.Module):\n",
    "\n",
    "    def __init__(self, num_hidden):\n",
    "        super(Critic, self).__init__()\n",
    "        self.fc_1 = torch.nn.Linear(1, num_hidden)\n",
    "        self.fc_2 = torch.nn.Linear(num_hidden, num_hidden)\n",
    "        self.fc_3 = torch.nn.Linear(num_hidden, 1)\n",
    "\n",
    "    def forward(self, x):\n",
    "        x = F.relu(self.fc_1(x))\n",
    "        x = F.relu(self.fc_2(x))\n",
    "        x = (self.fc_3(x))\n",
    "\n",
    "        return x\n",
    "    \n",
    "    \n",
    "class CriticWithSigmoid(torch.nn.Module):\n",
    "\n",
    "    def __init__(self, num_hidden):\n",
    "        super(CriticWithSigmoid, self).__init__()\n",
    "        self.fc_1 = torch.nn.Linear(1, num_hidden)\n",
    "        self.fc_2 = torch.nn.Linear(num_hidden, num_hidden)\n",
    "        self.fc_3 = torch.nn.Linear(num_hidden, 1)\n",
    "\n",
    "    def forward(self, x):\n",
    "        x = F.relu(self.fc_1(x))\n",
    "        x = F.relu(self.fc_2(x))\n",
    "        x = F.sigmoid(self.fc_3(x))\n",
    "\n",
    "        return x\n",
    "    \n",
    "    \n",
    "class CriticWithTanh(torch.nn.Module):\n",
    "\n",
    "    def __init__(self, num_hidden):\n",
    "        super(CriticWithTanh, self).__init__()\n",
    "        self.fc_1 = torch.nn.Linear(1, num_hidden)\n",
    "        self.fc_2 = torch.nn.Linear(num_hidden, num_hidden)\n",
    "        self.fc_3 = torch.nn.Linear(num_hidden, 1)\n",
    "\n",
    "    def forward(self, x):\n",
    "        x = F.relu(self.fc_1(x))\n",
    "        x = F.relu(self.fc_2(x))\n",
    "        x = F.tanh(self.fc_3(x))\n",
    "\n",
    "        return x\n",
    "    \n",
    "    \n",
    "class CriticWithRelu(torch.nn.Module):\n",
    "\n",
    "    def __init__(self, num_hidden):\n",
    "        super(CriticWithRelu, self).__init__()\n",
    "        self.fc_1 = torch.nn.Linear(1, num_hidden)\n",
    "        self.fc_2 = torch.nn.Linear(num_hidden, num_hidden)\n",
    "        self.fc_3 = torch.nn.Linear(num_hidden, 1)\n",
    "\n",
    "    def forward(self, x):\n",
    "        x = F.relu(self.fc_1(x))\n",
    "        x = F.relu(self.fc_2(x))\n",
    "        x = F.tanh(self.fc_3(x))\n",
    "\n",
    "        return x"
   ]
  },
  {
   "cell_type": "markdown",
   "metadata": {},
   "source": [
    "## Simulator"
   ]
  },
  {
   "cell_type": "code",
   "execution_count": 6,
   "metadata": {},
   "outputs": [
    {
     "data": {
      "image/png": "[encoded data removed]",
      "text/plain": [
       "<matplotlib.figure.Figure at 0x7fe11166e208>"
      ]
     },
     "metadata": {},
     "output_type": "display_data"
    },
    {
     "name": "stdout",
     "output_type": "stream",
     "text": [
      "Total number of true experimental observations: 100000\n"
     ]
    }
   ],
   "source": [
    "# Define the true parameterization of theta.\n",
    "theta_true = [45., .9]\n",
    "\n",
    "# This parameterization will produce the following distribution in the real experiment.\n",
    "real_data = real_experiment(theta_true).view(-1)\n",
    "plot_observations(real_data.numpy(), theta_true)\n",
    "\n",
    "# Display the total number of observations available.\n",
    "num_real_samples = len(real_data)\n",
    "print(\"Total number of true experimental observations: \" + str(num_real_samples))"
   ]
  },
  {
   "cell_type": "markdown",
   "metadata": {},
   "source": [
    "## Core Idea\n",
    "\n",
    "The main idea of the method lies in the fact that the desired parameterizations of your theory are the ones that maximize the loss *after* optimal training of the critic. To gain some additional intuition, let us consider that the beam energy $E_{beam}$ is the only parameter that can be tuned. How does the error landscape look like when we only vary this parameter?\n",
    "\n",
    "**Note:** High training cost."
   ]
  },
  {
   "cell_type": "code",
   "execution_count": 7,
   "metadata": {
    "collapsed": true
   },
   "outputs": [],
   "source": [
    "# Initialize the proposal distribution.\n",
    "proposal = {\n",
    "    'mu': torch.FloatTensor([40., .9]),   # Mean of the proposal distribution.\n",
    "    'sigma': torch.FloatTensor([.1, .1])  # Uncertainty of the proposal distribution.\n",
    "}"
   ]
  },
  {
   "cell_type": "code",
   "execution_count": 20,
   "metadata": {},
   "outputs": [],
   "source": [
    "loss_f = torch.nn.MSELoss(size_average=False)\n",
    "\n",
    "def fit_critic(proposal, p_r, critic, optimizer, num_critic_iterations=100, batch_size=256):\n",
    "    ones = torch.autograd.Variable(torch.ones(batch_size, 1))\n",
    "    zeros = torch.autograd.Variable(torch.zeros(batch_size, 1))\n",
    "    # Fit the critic optimally.\n",
    "    for iteration in range(0, num_critic_iterations):\n",
    "        # Fetch the data batches.\n",
    "        x_r = sample_real_data(p_r, batch_size)\n",
    "        # Fetch the simulated data batch.\n",
    "        x_g = sample_generated_data(proposal, batch_size)\n",
    "        # Reset the gradients.\n",
    "        critic.zero_grad()\n",
    "        # Forward pass with real data.\n",
    "        y_r = critic(x_r)\n",
    "        loss_real = loss_f(y_r, ones)\n",
    "        # Forward pass with generated data.\n",
    "        y_g = critic(x_g)\n",
    "        loss_generated = loss_f(y_g, zeros)\n",
    "        # Compute the loss, and the accompanying gradients.\n",
    "        loss = (loss_generated + loss_real) / 2\n",
    "        loss.backward()\n",
    "        optimizer.step()\n",
    "    \n",
    "    return loss.mean().data.numpy()[0]"
   ]
  },
  {
   "cell_type": "code",
   "execution_count": null,
   "metadata": {},
   "outputs": [],
   "source": [
    "# Initialize the interpolation parameters.\n",
    "p_start = 40.0\n",
    "p_end = 50.0\n",
    "p_interpolation_step = 2.5\n",
    "batch_size = 32\n",
    "\n",
    "# Initialize the proposal distribution.\n",
    "proposal['mu'][0] = p_start\n",
    "\n",
    "# Array to keep track of the losses over different parameterizations.\n",
    "X = []\n",
    "Y = []\n",
    "\n",
    "# Compute the error space.\n",
    "while proposal['mu'][0] <= p_end:\n",
    "    if proposal['mu'][0] == 45.:\n",
    "        proposal['mu'][0] += p_interpolation_step\n",
    "        continue\n",
    "    # Initialize a new critic (don't bias critic under different parameterizations).\n",
    "    critic = CriticWithSigmoid(100)\n",
    "    optimizer = torch.optim.Adam(critic.parameters(), lr=0.01)\n",
    "    # Train the critic optimally.\n",
    "    loss = fit_critic(proposal, real_data, critic, optimizer, 1000, batch_size)\n",
    "    X.append(proposal['mu'][0])\n",
    "    Y.append(loss)\n",
    "    print(\"Loss for beam energy \" + str(proposal['mu'][0]) + \": \" + str(loss))\n",
    "    # Set the new parameterization of the proposal distribution.\n",
    "    proposal['mu'][0] += p_interpolation_step"
   ]
  },
  {
   "cell_type": "markdown",
   "metadata": {
    "collapsed": true
   },
   "source": [
    "In order to find the optimal parameterization for the proposal distribution, we infer the error space using a Gaussian Process, where the input variables are the parameters of interest."
   ]
  },
  {
   "cell_type": "code",
   "execution_count": 23,
   "metadata": {
    "collapsed": true
   },
   "outputs": [],
   "source": [
    "import numpy as np\n",
    "from matplotlib import pyplot as plt\n",
    "from sklearn import gaussian_process\n",
    "from sklearn.gaussian_process.kernels import Matern, WhiteKernel, ConstantKernel"
   ]
  },
  {
   "cell_type": "code",
   "execution_count": 24,
   "metadata": {
    "collapsed": true
   },
   "outputs": [],
   "source": [
    "X_ = np.array(X)[:, np.newaxis]\n",
    "Y_ = np.array(Y)[:, np.newaxis]"
   ]
  },
  {
   "cell_type": "code",
   "execution_count": 26,
   "metadata": {},
   "outputs": [
    {
     "data": {
      "image/png": "[encoded data removed]",
      "text/plain": [
       "<matplotlib.figure.Figure at 0x7fe11166e240>"
      ]
     },
     "metadata": {},
     "output_type": "display_data"
    }
   ],
   "source": [
    "kernel = ConstantKernel() + Matern(length_scale=2, nu=3/2) + WhiteKernel(noise_level=1)\n",
    "\n",
    "gp = gaussian_process.GaussianProcessRegressor(kernel=kernel)\n",
    "gp.fit(X_, Y_)\n",
    "\n",
    "x = np.linspace(40, 50).reshape(-1,1)\n",
    "y, s = gp.predict(x, return_std=True)\n",
    "\n",
    "x = x.flatten()\n",
    "y = y.flatten()\n",
    "s = s.flatten()\n",
    "\n",
    "y_min = y - s\n",
    "y_max = y + s\n",
    "\n",
    "plt.title(\"Estimated Loss over Beam Energy\")\n",
    "plt.plot(x, y)\n",
    "plt.scatter(X, Y)\n",
    "plt.fill_between(x, y_min, y_max, color='lightblue', alpha='0.5')\n",
    "plt.xlim([40, 50])\n",
    "plt.grid(True)\n",
    "plt.show()"
   ]
  },
  {
   "cell_type": "markdown",
   "metadata": {},
   "source": [
    "Configuration which intersects 0 is at 45.9 GeV. Sample new point."
   ]
  },
  {
   "cell_type": "code",
   "execution_count": null,
   "metadata": {},
   "outputs": [],
   "source": [
    "critic = Critic(50)\n",
    "optimizer = torch.optim.Adam(critic.parameters(), lr=0.01)\n",
    "proposal['mu'][0] = 45.5\n",
    "loss = fit_critic(proposal, real_data, critic, optimizer, 3000, batch_size)\n",
    "\n",
    "print(\"Loss: \" + str(loss))"
   ]
  },
  {
   "cell_type": "markdown",
   "metadata": {},
   "source": [
    "# TODO\n",
    "\n",
    "- Quantify uncertainty of loss prediction in GP?"
   ]
  },
  {
   "cell_type": "code",
   "execution_count": null,
   "metadata": {
    "collapsed": true
   },
   "outputs": [],
   "source": []
  }
 ],
 "metadata": {
  "kernelspec": {
   "display_name": "Python 3",
   "language": "python",
   "name": "python3"
  },
  "language_info": {
   "codemirror_mode": {
    "name": "ipython",
    "version": 3
   },
   "file_extension": ".py",
   "mimetype": "text/x-python",
   "name": "python",
   "nbconvert_exporter": "python",
   "pygments_lexer": "ipython3",
   "version": "3.5.3"
  }
 },
 "nbformat": 4,
 "nbformat_minor": 2
}
