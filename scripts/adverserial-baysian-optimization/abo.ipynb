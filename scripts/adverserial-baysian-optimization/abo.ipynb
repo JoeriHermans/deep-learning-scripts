{
 "cells": [
  {
   "cell_type": "markdown",
   "metadata": {},
   "source": [
    "# Adverserial Baysian Optimization\n",
    "\n",
    "Joeri R. Hermans and Gilles Louppe"
   ]
  },
  {
   "cell_type": "code",
   "execution_count": 1,
   "metadata": {},
   "outputs": [
    {
     "name": "stdout",
     "output_type": "stream",
     "text": [
      "Fri Oct 27 20:47:09 CEST 2017\r\n"
     ]
    }
   ],
   "source": [
    "!date"
   ]
  },
  {
   "cell_type": "markdown",
   "metadata": {},
   "source": [
    "## Introduction"
   ]
  },
  {
   "cell_type": "code",
   "execution_count": 40,
   "metadata": {
    "collapsed": true
   },
   "outputs": [],
   "source": [
    "import torch\n",
    "import numpy as np\n",
    "import math\n",
    "import random\n",
    "import torch.nn.functional as F\n",
    "import matplotlib.pyplot as plt\n",
    "\n",
    "from sklearn.gaussian_process.kernels import ConstantKernel, RBF\n",
    "from sklearn.utils import check_random_state"
   ]
  },
  {
   "cell_type": "markdown",
   "metadata": {},
   "source": [
    "## Utility methods"
   ]
  },
  {
   "cell_type": "code",
   "execution_count": 37,
   "metadata": {
    "collapsed": true
   },
   "outputs": [],
   "source": [
    "def add_prior_beam_energy(prior):\n",
    "    g = random_gaussian(mu=[30, 60], sigma=1.0)\n",
    "    add_prior(prior, g['mu'], g['sigma'])\n",
    "\n",
    "\n",
    "def add_prior_fermi_constant(prior):\n",
    "    g = random_gaussian(mu=[0, 2], sigma=1.0)\n",
    "    add_prior(prior, g['mu'], g['sigma'])\n",
    "\n",
    "\n",
    "def add_prior(prior, mu, sigma):\n",
    "    prior['mu'].append(mu)\n",
    "    prior['sigma'].append(sigma)\n",
    "\n",
    "\n",
    "def random_gaussian(mu=[-1, 1], sigma=5.0):\n",
    "    return {'mu': np.random.uniform(mu[0], mu[1]),\n",
    "            'sigma': np.random.uniform(0.0, sigma)}\n",
    "\n",
    "\n",
    "def draw_gaussian(d, num_samples, random_state=None):\n",
    "    num_parameters = len(d['mu'])\n",
    "    thetas = torch.zeros((num_samples, num_parameters))\n",
    "    mu = d['mu']\n",
    "    sigma = d['sigma'].exp()\n",
    "    for i in range(0, num_samples):\n",
    "        gaussian = torch.normal(mu, sigma)\n",
    "        thetas[i, :] = gaussian\n",
    "\n",
    "    return thetas\n",
    "\n",
    "\n",
    "def real_experiment(theta, n_samples=100000):\n",
    "    return simulator(theta, n_samples)\n",
    "\n",
    "\n",
    "def simulator(theta, n_samples, random_state=None):\n",
    "    rng = check_random_state(random_state)\n",
    "    samples = simulator_rej_sample_costheta(n_samples, theta, rng)\n",
    "\n",
    "    return torch.from_numpy(samples.reshape(-1, 1)).float()\n",
    "\n",
    "\n",
    "def simulator_rej_sample_costheta(n_samples, theta, rng):\n",
    "    sqrtshalf = theta[0]\n",
    "    gf = theta[1]\n",
    "\n",
    "    ntrials = 0\n",
    "    samples = []\n",
    "    x = torch.linspace(-1, 1, steps=1000)\n",
    "    maxval = torch.max(simulator_diffxsec(x, sqrtshalf, gf))\n",
    "\n",
    "    while len(samples) < n_samples:\n",
    "        ntrials = ntrials + 1\n",
    "        xprop = rng.uniform(-1, 1)\n",
    "        ycut = rng.rand()\n",
    "        yprop = (simulator_diffxsec(xprop, sqrtshalf, gf) / maxval)[0]\n",
    "        if (yprop / maxval) < ycut:\n",
    "            continue\n",
    "        samples.append(xprop)\n",
    "\n",
    "    return np.array(samples)\n",
    "\n",
    "\n",
    "def simulator_diffxsec(costheta, sqrtshalf, gf):\n",
    "    norm = 2. * (1. + 1. / 3.)\n",
    "    return ((1 + costheta ** 2) + simulator_a_fb(sqrtshalf, gf) * costheta) / norm\n",
    "\n",
    "\n",
    "def simulator_a_fb(sqrtshalf, gf):\n",
    "    mz = 90\n",
    "    gf_nom = 0.9\n",
    "    sqrts = sqrtshalf * 2.\n",
    "    x = torch.FloatTensor([(sqrts - mz) / mz * 10])\n",
    "    a_fb_en = torch.tanh(x)\n",
    "    a_fb_gf = gf / gf_nom\n",
    "\n",
    "    return 2 * a_fb_en * a_fb_gf\n",
    "\n",
    "\n",
    "def plot_observations(X_observed, theta, normed=True):\n",
    "    plt.grid(True)\n",
    "    plt.hist(X_observed, histtype=\"bar\", range=(-1, 1), bins=100, normed=normed)\n",
    "    plt.xlim([-1, 1])\n",
    "    if normed:\n",
    "        plt.ylim([0, 2])\n",
    "        plt.ylabel(\"Normalized Number of Events\")\n",
    "    else:\n",
    "        plt.ylim([0, 3000])\n",
    "        plt.ylabel(\"Number of Events\")\n",
    "    plt.title(r\"Distribution of $\\cos(A)$ in $e^-e^+ \\rightarrow \\mu^-\\mu^+$ events.\" + \"\\n\"\n",
    "              r\"$E_{beam}}$ = \" + str(theta[0]) + \"GeV   -   \" + r\"$G_f$ = \" + str(theta[1]))\n",
    "    plt.xlabel(r\"$\\cos(A)$\")\n",
    "    plt.show()\n",
    "\n",
    "    \n",
    "def sample_real_data(p_r, batch_size=256):\n",
    "    samples = torch.zeros((batch_size, 1))\n",
    "    num_samples_p_r = len(p_r)\n",
    "    for index in range(0, batch_size):\n",
    "        random_index = random.randint(0, num_samples_p_r - 1)\n",
    "        samples[index, :] = p_r[random_index]\n",
    "\n",
    "    return torch.autograd.Variable(samples)\n",
    "\n",
    "\n",
    "def sample_generated_data(proposal, batch_size=256):\n",
    "    # Sample `batch_size` thetas according to our proposal distribution.\n",
    "    thetas = draw_gaussian(proposal, batch_size)\n",
    "    # Obtain the individual Gaussians.\n",
    "    theta_beam_energy = thetas[:, 0]\n",
    "    theta_fermi_constant = thetas[:, 1]\n",
    "    # Sample according to the proposal distribution.\n",
    "    samples = torch.zeros((batch_size, 1))\n",
    "    for sample_index, theta in enumerate(thetas):\n",
    "        samples[sample_index, :] = simulator(theta, 1)\n",
    "\n",
    "    return torch.autograd.Variable(samples)\n",
    "    \n",
    "    \n",
    "def compute_gradient_penalty(critic, real, fake, l=5.0):\n",
    "    # Compute x_hat and its output.\n",
    "    epsilon = torch.rand(real.size())\n",
    "    x_hat = epsilon * real + ((1. - epsilon) * fake)\n",
    "    x_hat = torch.autograd.Variable(x_hat, requires_grad=True)\n",
    "    y_hat = critic(x_hat)\n",
    "    # Compute the associated gradients.\n",
    "    gradients = torch.autograd.grad(outputs=y_hat, inputs=x_hat,\n",
    "                                    grad_outputs=torch.ones(y_hat.size()),\n",
    "                                    create_graph=True, retain_graph=True, only_inputs=True)[0]\n",
    "    # Prevent norm 0 causing NaN.\n",
    "    gradients = gradients + 1e-16\n",
    "    # Compute the gradient penalty.\n",
    "    gradient_penalty = l * ((gradients.norm(2, dim=1) - 1.) ** 2)\n",
    "\n",
    "    return gradient_penalty\n",
    "    \n",
    "\n",
    "class Critic(torch.nn.Module):\n",
    "\n",
    "    def __init__(self, num_hidden):\n",
    "        super(Critic, self).__init__()\n",
    "        self.fc_1 = torch.nn.Linear(1, num_hidden)\n",
    "        self.fc_2 = torch.nn.Linear(num_hidden, num_hidden)\n",
    "        self.fc_3 = torch.nn.Linear(num_hidden, 1)\n",
    "\n",
    "    def forward(self, x):\n",
    "        x = F.relu(self.fc_1(x))\n",
    "        x = F.relu(self.fc_2(x))\n",
    "        x = (self.fc_3(x))\n",
    "\n",
    "        return x\n",
    "\n",
    "\n",
    "class CriticWithSigmoid(torch.nn.Module):\n",
    "\n",
    "    def __init__(self, num_hidden):\n",
    "        super(CriticWithSigmoid, self).__init__()\n",
    "        self.fc_1 = torch.nn.Linear(1, num_hidden)\n",
    "        self.fc_2 = torch.nn.Linear(num_hidden, num_hidden)\n",
    "        self.fc_3 = torch.nn.Linear(num_hidden, 1)\n",
    "\n",
    "    def forward(self, x):\n",
    "        x = F.relu(self.fc_1(x))\n",
    "        x = F.relu(self.fc_2(x))\n",
    "        x = F.sigmoid(self.fc_3(x))\n",
    "\n",
    "        return x"
   ]
  },
  {
   "cell_type": "markdown",
   "metadata": {},
   "source": [
    "## Simulator"
   ]
  },
  {
   "cell_type": "code",
   "execution_count": 25,
   "metadata": {},
   "outputs": [
    {
     "data": {
      "image/png": "[encoded data removed]",
      "text/plain": [
       "<matplotlib.figure.Figure at 0x7f823e5e8b38>"
      ]
     },
     "metadata": {},
     "output_type": "display_data"
    },
    {
     "name": "stdout",
     "output_type": "stream",
     "text": [
      "Total number of true experimental observations: 100000\n"
     ]
    }
   ],
   "source": [
    "# Define the true parameterization of theta.\n",
    "theta_true = [45., .9]\n",
    "\n",
    "# This parameterization will produce the following distribution in the real experiment.\n",
    "real_data = real_experiment(theta_true).view(-1).numpy()\n",
    "plot_observations(real_data, theta_true)\n",
    "\n",
    "# Display the total number of observations available.\n",
    "num_real_samples = len(real_data)\n",
    "print(\"Total number of true experimental observations: \" + str(num_real_samples))"
   ]
  },
  {
   "cell_type": "markdown",
   "metadata": {},
   "source": [
    "## Objective\n",
    "\n",
    "In order to find the parameterizations which fit the true experimental observation, we want to pick the parameterization of a theory which maximizes the loss of our critic after being optimally trained."
   ]
  },
  {
   "cell_type": "code",
   "execution_count": 30,
   "metadata": {
    "collapsed": true
   },
   "outputs": [],
   "source": [
    "# Initialize the proposal distribution.\n",
    "proposal = {\n",
    "    'mu': [41., .7],   # Mean of the proposal distribution.\n",
    "    'sigma': [1., 1.]  # Uncertainty of the proposal distribution.\n",
    "}"
   ]
  },
  {
   "cell_type": "code",
   "execution_count": 42,
   "metadata": {},
   "outputs": [
    {
     "ename": "RuntimeError",
     "evalue": "copy from numpy.float32 to torch.FloatTensor isn't implemented",
     "output_type": "error",
     "traceback": [
      "\u001b[0;31m---------------------------------------------------------------------------\u001b[0m",
      "\u001b[0;31mRuntimeError\u001b[0m                              Traceback (most recent call last)",
      "\u001b[0;32m<ipython-input-42-68fb344fae3e>\u001b[0m in \u001b[0;36m<module>\u001b[0;34m()\u001b[0m\n\u001b[0;32m----> 1\u001b[0;31m \u001b[0mfit\u001b[0m\u001b[0;34m(\u001b[0m\u001b[0mproposal\u001b[0m\u001b[0;34m,\u001b[0m \u001b[0mreal_data\u001b[0m\u001b[0;34m)\u001b[0m\u001b[0;34m\u001b[0m\u001b[0m\n\u001b[0m",
      "\u001b[0;32m<ipython-input-41-54cc61cbeb1e>\u001b[0m in \u001b[0;36mfit\u001b[0;34m(proposal, experiment_data, max_iterations, batch_size)\u001b[0m\n\u001b[1;32m      8\u001b[0m     \u001b[0;32mfor\u001b[0m \u001b[0miteration\u001b[0m \u001b[0;32min\u001b[0m \u001b[0mrange\u001b[0m\u001b[0;34m(\u001b[0m\u001b[0;36m0\u001b[0m\u001b[0;34m,\u001b[0m \u001b[0mmax_iterations\u001b[0m\u001b[0;34m)\u001b[0m\u001b[0;34m:\u001b[0m\u001b[0;34m\u001b[0m\u001b[0m\n\u001b[1;32m      9\u001b[0m         \u001b[0;31m# Fit the critic optimally.\u001b[0m\u001b[0;34m\u001b[0m\u001b[0;34m\u001b[0m\u001b[0m\n\u001b[0;32m---> 10\u001b[0;31m         \u001b[0mloss\u001b[0m \u001b[0;34m=\u001b[0m \u001b[0mfit_critic\u001b[0m\u001b[0;34m(\u001b[0m\u001b[0mproposal\u001b[0m\u001b[0;34m,\u001b[0m \u001b[0mexperiment_data\u001b[0m\u001b[0;34m,\u001b[0m \u001b[0mcritic\u001b[0m\u001b[0;34m,\u001b[0m \u001b[0mcritic_optimizer\u001b[0m\u001b[0;34m,\u001b[0m \u001b[0;36m10000\u001b[0m\u001b[0;34m,\u001b[0m \u001b[0mbatch_size\u001b[0m\u001b[0;34m)\u001b[0m\u001b[0;34m\u001b[0m\u001b[0m\n\u001b[0m\u001b[1;32m     11\u001b[0m         \u001b[0;31m# Add the loss to the Gaussian Process, and fit the proposal distribution optimally.\u001b[0m\u001b[0;34m\u001b[0m\u001b[0;34m\u001b[0m\u001b[0m\n\u001b[1;32m     12\u001b[0m         \u001b[0mfit_proposal\u001b[0m\u001b[0;34m(\u001b[0m\u001b[0mproposal\u001b[0m\u001b[0;34m)\u001b[0m\u001b[0;34m\u001b[0m\u001b[0m\n",
      "\u001b[0;32m<ipython-input-41-54cc61cbeb1e>\u001b[0m in \u001b[0;36mfit_critic\u001b[0;34m(proposal, p_r, critic, optimizer, num_critic_iterations, batch_size)\u001b[0m\n\u001b[1;32m     23\u001b[0m \u001b[0;32mdef\u001b[0m \u001b[0mfit_critic\u001b[0m\u001b[0;34m(\u001b[0m\u001b[0mproposal\u001b[0m\u001b[0;34m,\u001b[0m \u001b[0mp_r\u001b[0m\u001b[0;34m,\u001b[0m \u001b[0mcritic\u001b[0m\u001b[0;34m,\u001b[0m \u001b[0moptimizer\u001b[0m\u001b[0;34m,\u001b[0m \u001b[0mnum_critic_iterations\u001b[0m\u001b[0;34m=\u001b[0m\u001b[0;36m50000\u001b[0m\u001b[0;34m,\u001b[0m \u001b[0mbatch_size\u001b[0m\u001b[0;34m=\u001b[0m\u001b[0;36m256\u001b[0m\u001b[0;34m)\u001b[0m\u001b[0;34m:\u001b[0m\u001b[0;34m\u001b[0m\u001b[0m\n\u001b[1;32m     24\u001b[0m      \u001b[0;31m# Fetch the data batches.\u001b[0m\u001b[0;34m\u001b[0m\u001b[0;34m\u001b[0m\u001b[0m\n\u001b[0;32m---> 25\u001b[0;31m     \u001b[0mx_r\u001b[0m \u001b[0;34m=\u001b[0m \u001b[0msample_real_data\u001b[0m\u001b[0;34m(\u001b[0m\u001b[0mp_r\u001b[0m\u001b[0;34m,\u001b[0m \u001b[0mbatch_size\u001b[0m\u001b[0;34m)\u001b[0m\u001b[0;34m\u001b[0m\u001b[0m\n\u001b[0m\u001b[1;32m     26\u001b[0m     \u001b[0mx_g\u001b[0m \u001b[0;34m=\u001b[0m \u001b[0msample_generated_data\u001b[0m\u001b[0;34m(\u001b[0m\u001b[0mproposal\u001b[0m\u001b[0;34m,\u001b[0m \u001b[0mbatch_size\u001b[0m\u001b[0;34m)\u001b[0m\u001b[0;34m\u001b[0m\u001b[0m\n\u001b[1;32m     27\u001b[0m     \u001b[0;31m# Fit the critic optimally.\u001b[0m\u001b[0;34m\u001b[0m\u001b[0;34m\u001b[0m\u001b[0m\n",
      "\u001b[0;32m<ipython-input-37-784281dff1c7>\u001b[0m in \u001b[0;36msample_real_data\u001b[0;34m(p_r, batch_size)\u001b[0m\n\u001b[1;32m    100\u001b[0m     \u001b[0;32mfor\u001b[0m \u001b[0mindex\u001b[0m \u001b[0;32min\u001b[0m \u001b[0mrange\u001b[0m\u001b[0;34m(\u001b[0m\u001b[0;36m0\u001b[0m\u001b[0;34m,\u001b[0m \u001b[0mbatch_size\u001b[0m\u001b[0;34m)\u001b[0m\u001b[0;34m:\u001b[0m\u001b[0;34m\u001b[0m\u001b[0m\n\u001b[1;32m    101\u001b[0m         \u001b[0mrandom_index\u001b[0m \u001b[0;34m=\u001b[0m \u001b[0mrandom\u001b[0m\u001b[0;34m.\u001b[0m\u001b[0mrandint\u001b[0m\u001b[0;34m(\u001b[0m\u001b[0;36m0\u001b[0m\u001b[0;34m,\u001b[0m \u001b[0mnum_samples_p_r\u001b[0m \u001b[0;34m-\u001b[0m \u001b[0;36m1\u001b[0m\u001b[0;34m)\u001b[0m\u001b[0;34m\u001b[0m\u001b[0m\n\u001b[0;32m--> 102\u001b[0;31m         \u001b[0msamples\u001b[0m\u001b[0;34m[\u001b[0m\u001b[0mindex\u001b[0m\u001b[0;34m,\u001b[0m \u001b[0;34m:\u001b[0m\u001b[0;34m]\u001b[0m \u001b[0;34m=\u001b[0m \u001b[0mp_r\u001b[0m\u001b[0;34m[\u001b[0m\u001b[0mrandom_index\u001b[0m\u001b[0;34m]\u001b[0m\u001b[0;34m\u001b[0m\u001b[0m\n\u001b[0m\u001b[1;32m    103\u001b[0m \u001b[0;34m\u001b[0m\u001b[0m\n\u001b[1;32m    104\u001b[0m     \u001b[0;32mreturn\u001b[0m \u001b[0mtorch\u001b[0m\u001b[0;34m.\u001b[0m\u001b[0mautograd\u001b[0m\u001b[0;34m.\u001b[0m\u001b[0mVariable\u001b[0m\u001b[0;34m(\u001b[0m\u001b[0msamples\u001b[0m\u001b[0;34m)\u001b[0m\u001b[0;34m\u001b[0m\u001b[0m\n",
      "\u001b[0;31mRuntimeError\u001b[0m: copy from numpy.float32 to torch.FloatTensor isn't implemented"
     ]
    }
   ],
   "source": [
    "fit(proposal, real_data)"
   ]
  },
  {
   "cell_type": "code",
   "execution_count": null,
   "metadata": {
    "collapsed": true
   },
   "outputs": [],
   "source": [
    "def fit(proposal, experiment_data, max_iterations=100, batch_size=256):\n",
    "    # Define the critic network with 100 hidden neurons.\n",
    "    critic = CriticWithSigmoid(100)\n",
    "    # Define the global optimizer of the critic.\n",
    "    critic_optimizer = torch.optim.Adam(critic.parameters(), lr=0.001)\n",
    "    # Seed the gaussian process.\n",
    "    # Apply the fitting process for a maximum number of 100 iterations.\n",
    "    for iteration in range(0, max_iterations):\n",
    "        # Fit the critic optimally.\n",
    "        loss = fit_critic(proposal, experiment_data, critic, critic_optimizer, 10000, batch_size)\n",
    "        # Add the loss to the Gaussian Process, and fit the proposal distribution optimally.\n",
    "        fit_proposal(proposal)\n",
    "        # Display the current proposal distribution.\n",
    "        print(\"Current Proposal Distribution:\")\n",
    "        print(\"  mu: \" + str(proposal['mu']))\n",
    "        print(\"  sigma: \" + str(proposal['sigma']))\n",
    "\n",
    "        \n",
    "def fit_proposal(proposal):\n",
    "    pass\n",
    "        \n",
    "        \n",
    "def fit_critic(proposal, p_r, critic, optimizer, num_critic_iterations=50000, batch_size=256):\n",
    "     # Fetch the data batches.\n",
    "    x_r = sample_real_data(p_r, batch_size)\n",
    "    x_g = sample_generated_data(proposal, batch_size)\n",
    "    # Fit the critic optimally.\n",
    "    for iteration in range(0, num_critic_iterations):\n",
    "        # Reset the gradients.\n",
    "        critic.zero_grad()\n",
    "        # Forward pass with real data.\n",
    "        y_r = critic(x_r).mean()\n",
    "        # Forward pass with generated data.\n",
    "        y_g = critic(x_g).mean()\n",
    "        # Obtain gradient penalty (GP).\n",
    "        gp = compute_gradient_penalty(critic, x_r.data, x_g.data).mean()\n",
    "        # Compute the loss, and the accompanying gradients.\n",
    "        loss = y_g - y_r + gp\n",
    "        loss.backward()\n",
    "        optimizer.step()\n",
    "    \n",
    "    return loss.data.numpy()[0]"
   ]
  },
  {
   "cell_type": "code",
   "execution_count": null,
   "metadata": {
    "collapsed": true
   },
   "outputs": [],
   "source": []
  },
  {
   "cell_type": "code",
   "execution_count": null,
   "metadata": {
    "collapsed": true
   },
   "outputs": [],
   "source": []
  }
 ],
 "metadata": {
  "kernelspec": {
   "display_name": "Python 3",
   "language": "python",
   "name": "python3"
  },
  "language_info": {
   "codemirror_mode": {
    "name": "ipython",
    "version": 3
   },
   "file_extension": ".py",
   "mimetype": "text/x-python",
   "name": "python",
   "nbconvert_exporter": "python",
   "pygments_lexer": "ipython3",
   "version": "3.5.3"
  }
 },
 "nbformat": 4,
 "nbformat_minor": 2
}
